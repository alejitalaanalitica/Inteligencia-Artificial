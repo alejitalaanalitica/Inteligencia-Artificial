{
  "nbformat": 4,
  "nbformat_minor": 0,
  "metadata": {
    "colab": {
      "provenance": [],
      "authorship_tag": "ABX9TyMwZUM66a/42Jc7ujf/X1Jg",
      "include_colab_link": true
    },
    "kernelspec": {
      "name": "python3",
      "display_name": "Python 3"
    },
    "language_info": {
      "name": "python"
    }
  },
  "cells": [
    {
      "cell_type": "markdown",
      "metadata": {
        "id": "view-in-github",
        "colab_type": "text"
      },
      "source": [
        "<a href=\"https://colab.research.google.com/github/alejitalaanalitica/Inteligencia-Artificial/blob/main/Modelo_supervisado_Predicci%C3%B3n_de_Duraci%C3%B3n_en_Rutas_de_TransMilenio.ipynb\" target=\"_parent\"><img src=\"https://colab.research.google.com/assets/colab-badge.svg\" alt=\"Open In Colab\"/></a>"
      ]
    },
    {
      "cell_type": "markdown",
      "source": [
        "# **Predicción de Duración en Rutas de TransMilenio - Modelo Supervisado**"
      ],
      "metadata": {
        "id": "yrQllw2MpCPf"
      }
    },
    {
      "cell_type": "markdown",
      "source": [
        "Este proyecto se presenta como parte de la exploración para prever la duración del viaje en la red de TransMilenio. Propuesto como entregable para el curso de Inteligencia Artificial del profesor Julian Lopez, específicamente en la Actividad 3. El código implementa un modelo de regresión de árbol de decisión utilizando datos generados aleatoriamente. Después de dividir los datos, el modelo se entrena y evalúa su rendimiento en la predicción de la duración del viaje, destacando las capacidades adquiridas en modelos de regresión y evaluación de rendimiento."
      ],
      "metadata": {
        "id": "Z0dGNSATn36R"
      }
    },
    {
      "cell_type": "code",
      "source": [
        "from sklearn.tree import DecisionTreeRegressor\n",
        "from sklearn.model_selection import train_test_split\n",
        "from sklearn.metrics import mean_squared_error\n",
        "import pandas as pd\n",
        "import random\n",
        "\n",
        "# Crear una lista de estaciones\n",
        "estaciones = ['Portal Norte', 'Toberin', 'Mazuren', 'Calle 146', 'Alcala', 'Pepe Sierra', 'Calle 100', 'Virrey', 'Calle 85', 'Cra. 47', 'Cra. 53', 'Granja - Cra. 77', 'Av. Cali', 'Cra. 90', 'Portal 80']\n",
        "\n",
        "# Crear una lista de días de la semana\n",
        "dias_semana = ['Lunes', 'Martes', 'Miércoles', 'Jueves', 'Viernes', 'Sábado', 'Domingo']\n",
        "\n",
        "# Crear una lista de horas del día\n",
        "horas_dia = [i for i in range(24)]\n",
        "\n",
        "# Crear un conjunto de datos de muestra\n",
        "data = {'Hora_Actual': [], 'Dia_Semana': [], 'Estacion_Inicio': [], 'Estacion_Destino': [], 'Duracion_Viaje': []}\n",
        "\n",
        "for _ in range(1000):  # Crear 1000 muestras de datos de ejemplo\n",
        "    hora_actual = random.choice(horas_dia)\n",
        "    dia_semana = random.choice(dias_semana)\n",
        "    estacion_inicio = random.choice(estaciones)\n",
        "    estacion_destino = random.choice(estaciones)\n",
        "    duracion_viaje = random.randint(5, 60)  # Duración del viaje en minutos\n",
        "\n",
        "    data['Hora_Actual'].append(hora_actual)\n",
        "    data['Dia_Semana'].append(dia_semana)\n",
        "    data['Estacion_Inicio'].append(estacion_inicio)\n",
        "    data['Estacion_Destino'].append(estacion_destino)\n",
        "    data['Duracion_Viaje'].append(duracion_viaje)\n",
        "\n",
        "# Crear un DataFrame de Pandas\n",
        "df = pd.DataFrame(data)\n",
        "\n",
        "# Convertir la columna 'Hora_Actual' a tipo numérico (hora en minutos)\n",
        "df['Hora_Actual'] = df['Hora_Actual'] * 60\n",
        "\n",
        "# Convertir las variables categóricas a variables dummy\n",
        "df = pd.get_dummies(df, columns=['Dia_Semana', 'Estacion_Inicio', 'Estacion_Destino'], drop_first=True)\n",
        "\n",
        "# Dividir los datos en conjunto de entrenamiento y prueba\n",
        "X = df.drop('Duracion_Viaje', axis=1)\n",
        "y = df['Duracion_Viaje']\n",
        "X_train, X_test, y_train, y_test = train_test_split(X, y, test_size=0.2, random_state=42)\n",
        "\n",
        "# Inicializar y entrenar el modelo de árbol de decisión\n",
        "model = DecisionTreeRegressor()\n",
        "model.fit(X_train, y_train)\n",
        "\n",
        "# Hacer predicciones en el conjunto de prueba\n",
        "predictions = model.predict(X_test)"
      ],
      "metadata": {
        "id": "XmcWzvZPn3na"
      },
      "execution_count": 27,
      "outputs": []
    }
  ]
}