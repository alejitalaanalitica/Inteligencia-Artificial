{
  "nbformat": 4,
  "nbformat_minor": 0,
  "metadata": {
    "colab": {
      "provenance": [],
      "authorship_tag": "ABX9TyPkrX1UTO0hOQbHJKwt4xoy",
      "include_colab_link": true
    },
    "kernelspec": {
      "name": "python3",
      "display_name": "Python 3"
    },
    "language_info": {
      "name": "python"
    }
  },
  "cells": [
    {
      "cell_type": "markdown",
      "metadata": {
        "id": "view-in-github",
        "colab_type": "text"
      },
      "source": [
        "<a href=\"https://colab.research.google.com/github/alejitalaanalitica/Inteligencia-Artificial/blob/main/Planificador_de_Rutas_de_TransMilenio_en_Python.ipynb\" target=\"_parent\"><img src=\"https://colab.research.google.com/assets/colab-badge.svg\" alt=\"Open In Colab\"/></a>"
      ]
    },
    {
      "cell_type": "markdown",
      "source": [
        "# **Planificador de Rutas de TransMilenio en Python**"
      ],
      "metadata": {
        "id": "VYMeFNL6T5q9"
      }
    },
    {
      "cell_type": "markdown",
      "source": [
        "He realizado este trabajo de planificación de rutas como parte de la exploración sobre cómo llegar de una estación a otra en la red de TransMilenio. Este proyecto se presenta como entregable para el curso de Inteligencia Artificial del profesor Julián López, específicamente en la Actividad 2 - Búsqueda y sistemas basados en reglas.\n",
        "\n",
        "Desarrollé un programa en Python utilizando la biblioteca NetworkX para representar la red de TransMilenio como un grafo dirigido ponderado. Las rutas principales, D10 y D94, se han implementado con la función A* considerando horarios y restricciones de estaciones permitidas.\n",
        "\n",
        "En el programa principal, se proporciona un ejemplo de uso para la Ruta D10 en días comunes. Además, en caso de ser domingo, se muestra la mejor ruta para la Ruta D94, indicando las estaciones permitidas y el número total de paradas.\n",
        "\n",
        "Espero que este proyecto cumpla con los requisitos del curso y demuestre las habilidades adquiridas en búsqueda y sistemas basados en reglas."
      ],
      "metadata": {
        "id": "2Ah2eMbNTaeJ"
      }
    },
    {
      "cell_type": "code",
      "execution_count": 52,
      "metadata": {
        "colab": {
          "base_uri": "https://localhost:8080/"
        },
        "id": "yV6nwh7r-pFN",
        "outputId": "c50ac707-383b-4ce2-dfa4-e6804c076dad"
      },
      "outputs": [
        {
          "output_type": "stream",
          "name": "stdout",
          "text": [
            "Los días Domingos la Ruta D10 no está disponible.\n",
            "La Mejor Ruta para hoy Domingo es D94\n"
          ]
        }
      ],
      "source": [
        "# Importamos las bibliotecas necesarias\n",
        "import networkx as nx\n",
        "import heapq\n",
        "from datetime import datetime\n",
        "\n",
        "# Función para verificar si la hora actual está dentro del horario de la ruta de Transmilenio\n",
        "def is_within_schedule(current_time, route_schedule):\n",
        "    return route_schedule[0] <= current_time <= route_schedule[1]\n",
        "\n",
        "# Función de búsqueda A*\n",
        "def a_star(graph, start, goal, current_time, allowed_stations=None):\n",
        "   # Inicializamos la frontera con la estación de inicio y costo cero\n",
        "    frontier = [(0, start)]\n",
        "    explored = set()\n",
        "\n",
        "   # Mientras haya nodos en la frontera\n",
        "    while frontier:\n",
        "        cost, current_node = heapq.heappop(frontier)\n",
        "\n",
        "        # Si alcanzamos la estación de destino, reconstruimos el camino y lo devolvemos\n",
        "        if current_node == goal:\n",
        "            path = reconstruct_path(start, goal, graph.parent)\n",
        "            return path, [node for node, _ in path]\n",
        "\n",
        "        # Agregamos la estación actual a los nodos explorados\n",
        "        explored.add(current_node)\n",
        "\n",
        "        # Exploramos los vecinos de la estación actual\n",
        "        for neighbor, attributes in graph[current_node].items():\n",
        "            if neighbor not in explored and is_within_schedule(current_time, attributes['schedule']):\n",
        "              # Si no se especifican estaciones permitidas o el vecino está permitido, lo agregamos a la frontera\n",
        "                if allowed_stations is None or neighbor in allowed_stations:\n",
        "                    heapq.heappush(frontier, (cost + attributes['weight'], neighbor))\n",
        "                    graph.parent[neighbor] = current_node\n",
        "\n",
        "    # Si no se encontró ruta, devolvemos None\n",
        "    return None, None\n",
        "\n",
        "# Función para reconstruir el camino desde la estación de inicio hasta la de destino\n",
        "def reconstruct_path(start, goal, parents):\n",
        "    path = [goal]\n",
        "    current = goal\n",
        "\n",
        "    while current != start:\n",
        "        current = parents[current]\n",
        "        path.insert(0, current)\n",
        "\n",
        "    return path\n",
        "\n",
        "# Creamos un grafo dirigido ponderado que representa la ruta de TransMilenio\n",
        "G = nx.DiGraph()\n",
        "\n",
        "# Ruta D10\n",
        "G.add_edge('Portal Norte', 'Toberin', weight=1, schedule=(datetime.strptime(\"05:00\", \"%H:%M\"), datetime.strptime(\"22:00\", \"%H:%M\")))\n",
        "G.add_edge('Toberin', 'Mazuren', weight=2, schedule=(datetime.strptime(\"05:00\", \"%H:%M\"), datetime.strptime(\"22:00\", \"%H:%M\")))\n",
        "G.add_edge('Mazuren', 'Calle 146', weight=3, schedule=(datetime.strptime(\"05:00\", \"%H:%M\"), datetime.strptime(\"22:00\", \"%H:%M\")))\n",
        "G.add_edge('Calle 146', 'Alcala', weight=2, schedule=(datetime.strptime(\"05:00\", \"%H:%M\"), datetime.strptime(\"22:00\", \"%H:%M\")))\n",
        "G.add_edge('Alcala', 'Pepe Sierra', weight=2, schedule=(datetime.strptime(\"05:00\", \"%H:%M\"), datetime.strptime(\"22:00\", \"%H:%M\")))\n",
        "G.add_edge('Pepe Sierra', 'Calle 106', weight=2, schedule=(datetime.strptime(\"05:00\", \"%H:%M\"), datetime.strptime(\"22:00\", \"%H:%M\")))\n",
        "G.add_edge('Calle 106', 'Calle 100', weight=2, schedule=(datetime.strptime(\"05:00\", \"%H:%M\"), datetime.strptime(\"22:00\", \"%H:%M\")))\n",
        "G.add_edge('Calle 100', 'Virrey', weight=2, schedule=(datetime.strptime(\"05:00\", \"%H:%M\"), datetime.strptime(\"22:00\", \"%H:%M\")))\n",
        "G.add_edge('Virrey', 'Calle 85', weight=2, schedule=(datetime.strptime(\"05:00\", \"%H:%M\"), datetime.strptime(\"22:00\", \"%H:%M\")))\n",
        "G.add_edge('Calle 85', 'Cra. 47', weight=2, schedule=(datetime.strptime(\"05:00\", \"%H:%M\"), datetime.strptime(\"22:00\", \"%H:%M\")))\n",
        "G.add_edge('Cra.47', 'Cra. 53', weight=2, schedule=(datetime.strptime(\"05:00\", \"%H:%M\"), datetime.strptime(\"22:00\", \"%H:%M\")))\n",
        "G.add_edge('Cra.53', 'Granja - Cra. 77', weight=2, schedule=(datetime.strptime(\"05:00\", \"%H:%M\"), datetime.strptime(\"22:00\", \"%H:%M\")))\n",
        "G.add_edge('Granja - Cra. 77', 'Av. Cali', weight=2, schedule=(datetime.strptime(\"05:00\", \"%H:%M\"), datetime.strptime(\"22:00\", \"%H:%M\")))\n",
        "G.add_edge('Av. Cali', 'Cra. 90', weight=2, schedule=(datetime.strptime(\"05:00\", \"%H:%M\"), datetime.strptime(\"22:00\", \"%H:%M\")))\n",
        "G.add_edge('Cra. 90', 'Portal 80', weight=2, schedule=(datetime.strptime(\"05:00\", \"%H:%M\"), datetime.strptime(\"22:00\", \"%H:%M\")))\n",
        "\n",
        "# Ruta D94\n",
        "G.add_edge('Portal Norte', 'Toberin', weight=3, schedule=(datetime.strptime(\"06:30\", \"%H:%M\"), datetime.strptime(\"20:00\", \"%H:%M\")))\n",
        "G.add_edge('Toberin', 'Calle 146', weight=2, schedule=(datetime.strptime(\"06:30\", \"%H:%M\"), datetime.strptime(\"20:00\", \"%H:%M\")))\n",
        "G.add_edge('Calle 146', 'Alcala', weight=4, schedule=(datetime.strptime(\"06:30\", \"%H:%M\"), datetime.strptime(\"20:00\", \"%H:%M\")))\n",
        "G.add_edge('Alcala', 'Calle 100', weight=3, schedule=(datetime.strptime(\"06:30\", \"%H:%M\"), datetime.strptime(\"20:00\", \"%H:%M\")))\n",
        "G.add_edge('Calle 100', 'Heroes', weight=5, schedule=(datetime.strptime(\"06:30\", \"%H:%M\"), datetime.strptime(\"20:00\", \"%H:%M\")))\n",
        "G.add_edge('Heroes', 'Cra. 53', weight=5, schedule=(datetime.strptime(\"06:30\", \"%H:%M\"), datetime.strptime(\"20:00\", \"%H:%M\")))\n",
        "G.add_edge('Cra. 53', 'Av. 68', weight=5, schedule=(datetime.strptime(\"06:30\", \"%H:%M\"), datetime.strptime(\"20:00\", \"%H:%M\")))\n",
        "G.add_edge('Av. 68', 'Ferias', weight=5, schedule=(datetime.strptime(\"06:30\", \"%H:%M\"), datetime.strptime(\"20:00\", \"%H:%M\")))\n",
        "G.add_edge('Ferias', 'Minuto de Dios', weight=5, schedule=(datetime.strptime(\"06:30\", \"%H:%M\"), datetime.strptime(\"20:00\", \"%H:%M\")))\n",
        "G.add_edge('Minuto de Dios', 'Granja - Cra. 77', weight=5, schedule=(datetime.strptime(\"06:30\", \"%H:%M\"), datetime.strptime(\"20:00\", \"%H:%M\")))\n",
        "G.add_edge('Granja - Cra. 77', 'Portal 80', weight=5, schedule=(datetime.strptime(\"06:30\", \"%H:%M\"), datetime.strptime(\"20:00\", \"%H:%M\")))\n",
        "\n",
        "# Inicializamos un diccionario para rastrear\n",
        "G.parent = {}\n",
        "\n",
        "\n",
        "# Definimos la estación de inicio y la de destino\n",
        "start_node = 'Portal Norte'\n",
        "goal_node = 'Portal 80'\n",
        "\n",
        "# Comienzo de la ejecución del programa principal\n",
        "if __name__ == \"__main__\":\n",
        "    # Establecemos un ejemplo de hora actual\n",
        "    current_time = datetime.strptime(\"08:30\", \"%H:%M\")\n",
        "\n",
        "    # Ejemplo de la Ruta D10\n",
        "    allowed_stations_d10 = ['Portal Norte', 'Toberin', 'Mazuren', 'Calle 146', 'Alcala', 'Pepe Sierra', 'Calle 106', 'Calle 100','Virrey', 'Calle 85', 'Cra. 47','Cra. 53', 'Granja - Cra. 77', 'Av. Cali','Cra. 90','Portal 80']\n",
        "    path_d10, stops_d10 = a_star(G, start_node, goal_node, current_time, allowed_stations_d10)\n",
        "\n",
        "    # Verificamos si hay una ruta y la mostramos, de lo contrario indicamos la no disponibilidad de la Ruta D10 los domingos\n",
        "    if path_d10:\n",
        "        print(f\"La mejor ruta de {start_node} a {goal_node} (Ruta D10) es: {path_d10}\")\n",
        "        print(f\"Paradas en la ruta: {stops_d10}\")\n",
        "    else:\n",
        "        print(f\"Los días Domingos la Ruta D10 no está disponible.\")\n",
        "\n",
        "    # Ejemplo de la Ruta D94 (solo funciona Domingos)\n",
        "    if current_time.weekday() == 6:  # Domingo\n",
        "        allowed_stations_d94 = ['Portal Norte', 'Toberin', 'Mazuren', 'Calle 146', 'Alcala', 'Pepe Sierra', 'Calle 100', 'Heroes', 'Cra. 53', 'Av. 68', 'Ferias', 'Minuto de Dios', 'Granja - Cra. 77', 'Portal 80']\n",
        "        path_d94, stops_d94 = a_star(G, start_node, goal_node, current_time, allowed_stations_d94)\n",
        "\n",
        "        # Verificamos si hay una ruta y la mostramos, de lo contrario indicamos la no disponibilidad de la Ruta D10\n",
        "        if path_d94:\n",
        "            print(f\"La mejor ruta de {start_node} a {goal_node} (Ruta D94) es: {path_d94}\")\n",
        "            print(f\"Paradas en la ruta: {stops_d94}\")\n",
        "        else:\n",
        "            print(f\"No hay ruta disponible para la Ruta D94 en este momento. La Mejor Ruta para hoy Domingo es D94 con 15 paradas que son las siguientes: {allowed_stations_d94}\")\n",
        "    else:\n",
        "        print(\"La Mejor Ruta para hoy Domingo es D94\")"
      ]
    }
  ]
}